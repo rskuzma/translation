{
 "cells": [
  {
   "cell_type": "code",
   "execution_count": 1,
   "id": "41157fcf",
   "metadata": {},
   "outputs": [],
   "source": [
    "import os\n",
    "import tqdm"
   ]
  },
  {
   "cell_type": "code",
   "execution_count": 2,
   "id": "ca929fca",
   "metadata": {},
   "outputs": [],
   "source": [
    "from transformers import AutoTokenizer, AutoModelForSeq2SeqLM\n",
    "\n",
    "def arabic():\n",
    "    tokenizer = AutoTokenizer.from_pretrained(\"Helsinki-NLP/opus-mt-ar-en\")\n",
    "    model = AutoModelForSeq2SeqLM.from_pretrained(\"Helsinki-NLP/opus-mt-ar-en\")\n",
    "    return tokenizer, model"
   ]
  },
  {
   "cell_type": "code",
   "execution_count": 7,
   "id": "014ba137",
   "metadata": {},
   "outputs": [],
   "source": [
    "#  def get_arabic_text(full_path:str):\n",
    "#     with open(full_path, 'r') as f:\n",
    "#         temp_text_list = f.readlines()\n",
    "#         text_list = [line.rstrip('\\n') for line in temp_text_list]\n",
    "#     #     text_list = [line for line in text_list if line !='']\n",
    "#         fulltext = ' '.join(text_list)\n",
    "#     return fulltext, text_list\n",
    "\n",
    "\n",
    "def translate_one_line(line:str, model, tokenizer):\n",
    "    if line == '':\n",
    "        return ''\n",
    "    else:\n",
    "        input_ids = tokenizer.encode(line, return_tensors=\"pt\")\n",
    "        outputs = model.generate(input_ids)\n",
    "        decoded = tokenizer.decode(outputs[0], skip_special_tokens=True)\n",
    "        return decoded\n",
    "\n",
    "\n",
    "# def translate_ar_to_en(text_list:list, verbose:bool = False):\n",
    "#     translated_lines = []\n",
    "#     for line in text_list:\n",
    "#         line_en = translate_one_line(line)\n",
    "#         if verbose == True:\n",
    "#             print(line_en)\n",
    "#         translated_lines.append(line_en)\n",
    "#     return translated_lines\n",
    "\n",
    "\n",
    "# def write_to_file(fullpath:str, translated_lines:list):\n",
    "#     with open(fullpath, 'a') as f:\n",
    "#         for line in translated_lines:\n",
    "#             f.write(line + '\\n')\n",
    "\n",
    "            \n",
    "# def translate_full_directory(READDIR = '../data/clean/arabic/', WRITEDIR='../data/clean/english/', thresh = 500, max_count=-1):\n",
    "#     print(f'Reading from {READDIR}')\n",
    "#     print(f'Will write to {WRITEDIR}\\n')\n",
    "    \n",
    "#     list_of_files = os.listdir(READDIR)\n",
    "#     random.shuffle(list_of_files)\n",
    "    \n",
    "#     count = 0\n",
    "#     for elem in tqdm(list_of_files):\n",
    "\n",
    "#         if elem[-4:] == '.txt':\n",
    "#             full_read_path = READDIR + elem\n",
    "#             full_write_path = WRITEDIR + elem\n",
    "#             fulltext, text_list = get_arabic_text(full_read_path)\n",
    "\n",
    "#             if len(text_list) > thresh:\n",
    "#                 print(f'{elem} has {len(text_list)} lines. > thresh: ({thresh}) skipping...')\n",
    "#                 continue\n",
    "                      \n",
    "#             translated_lines = translate_ar_to_en(text_list)\n",
    "#             write_to_file(full_write_path, translated_lines)\n",
    "#             print(f'translated {elem} and wrote to {WRITEDIR}')\n",
    "            \n",
    "#             count +=1\n",
    "            \n",
    "#             if max_count > 0:\n",
    "#                 if count > max_count:\n",
    "#                     break\n"
   ]
  },
  {
   "cell_type": "code",
   "execution_count": null,
   "id": "9d20e518",
   "metadata": {},
   "outputs": [],
   "source": []
  }
 ],
 "metadata": {
  "kernelspec": {
   "display_name": "env_translation",
   "language": "python",
   "name": "env_translation"
  },
  "language_info": {
   "codemirror_mode": {
    "name": "ipython",
    "version": 3
   },
   "file_extension": ".py",
   "mimetype": "text/x-python",
   "name": "python",
   "nbconvert_exporter": "python",
   "pygments_lexer": "ipython3",
   "version": "3.8.2"
  }
 },
 "nbformat": 4,
 "nbformat_minor": 5
}
